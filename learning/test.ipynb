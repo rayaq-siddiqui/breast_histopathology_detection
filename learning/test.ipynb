{
 "cells": [
  {
   "cell_type": "code",
   "execution_count": 2,
   "metadata": {},
   "outputs": [],
   "source": [
    "import numpy as np\n",
    "\n",
    "a = np.array([1,2])\n",
    "b = np.array([3,4])\n",
    "\n",
    "with open('saved_arr/X.npy', 'wb') as f:\n",
    "    np.save(f, a)\n",
    "    np.save(f, b)"
   ]
  },
  {
   "cell_type": "code",
   "execution_count": 4,
   "metadata": {},
   "outputs": [
    {
     "name": "stdout",
     "output_type": "stream",
     "text": [
      "<class 'numpy.ndarray'> [1 2]\n"
     ]
    }
   ],
   "source": [
    "with open('saved_arr/X.npy', 'rb') as f:\n",
    "    l = np.load(f)\n",
    "    k = np.load(f)\n",
    "\n",
    "print(type(l), l)"
   ]
  }
 ],
 "metadata": {
  "interpreter": {
   "hash": "295b66c8ec771d8d9f55fa9a6b207120ecd65bd96cc91853afd1a6a6a3cd000c"
  },
  "kernelspec": {
   "display_name": "Python 3.7.7 ('breast': venv)",
   "language": "python",
   "name": "python3"
  },
  "language_info": {
   "codemirror_mode": {
    "name": "ipython",
    "version": 3
   },
   "file_extension": ".py",
   "mimetype": "text/x-python",
   "name": "python",
   "nbconvert_exporter": "python",
   "pygments_lexer": "ipython3",
   "version": "3.7.7"
  },
  "orig_nbformat": 4
 },
 "nbformat": 4,
 "nbformat_minor": 2
}
