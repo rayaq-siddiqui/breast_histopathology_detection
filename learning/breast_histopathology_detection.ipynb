{
 "cells": [
  {
   "cell_type": "code",
   "execution_count": 1,
   "metadata": {},
   "outputs": [],
   "source": [
    "import tensorflow as tf\n",
    "from tensorflow.keras.models import Sequential\n",
    "from tensorflow.keras.layers import Dense, Conv2D, MaxPooling2D, Flatten\n",
    "from tensorflow.keras.utils import to_categorical"
   ]
  },
  {
   "cell_type": "code",
   "execution_count": 2,
   "metadata": {},
   "outputs": [
    {
     "data": {
      "text/plain": [
       "\"\\nimport os\\nimport shutil\\n\\nBASE_DIR = 'kaggle/'\\ndir_names = os.listdir(BASE_DIR)\\ndir_names.remove('.DS_Store')\\ndir_names\\n\\nfor dir in dir_names:\\n    path = BASE_DIR + dir + '/'\\n\\n    zero_path = path + '0/'\\n    one_path = path + '1/'\\n\\n    zero_file_names = os.listdir(zero_path)\\n    one_file_names = os.listdir(one_path)\\n\\n    for f in zero_file_names:\\n        shutil.move(zero_path + f, 'data/0/' + f)\\n\\n    for f in one_file_names:\\n        shutil.move(one_path + f, 'data/1/' + f)\\n\""
      ]
     },
     "execution_count": 2,
     "metadata": {},
     "output_type": "execute_result"
    }
   ],
   "source": [
    "# for putting all of the data in the proper files\n",
    "'''\n",
    "import os\n",
    "import shutil\n",
    "\n",
    "BASE_DIR = 'kaggle/'\n",
    "dir_names = os.listdir(BASE_DIR)\n",
    "dir_names.remove('.DS_Store')\n",
    "dir_names\n",
    "\n",
    "for dir in dir_names:\n",
    "    path = BASE_DIR + dir + '/'\n",
    "\n",
    "    zero_path = path + '0/'\n",
    "    one_path = path + '1/'\n",
    "\n",
    "    zero_file_names = os.listdir(zero_path)\n",
    "    one_file_names = os.listdir(one_path)\n",
    "\n",
    "    for f in zero_file_names:\n",
    "        shutil.move(zero_path + f, 'data/0/' + f)\n",
    "\n",
    "    for f in one_file_names:\n",
    "        shutil.move(one_path + f, 'data/1/' + f)\n",
    "'''"
   ]
  },
  {
   "cell_type": "code",
   "execution_count": 3,
   "metadata": {},
   "outputs": [
    {
     "data": {
      "text/plain": [
       "\"\\nimport os\\n\\nBASE_DIR = 'data/'\\nzero_path = BASE_DIR + '0/'\\none_path = BASE_DIR + '1/'\\nzero_file_names = os.listdir(zero_path)\\none_file_names = os.listdir(one_path)\\n\\nfor i, f in enumerate(zero_file_names):\\n    path = zero_path + f\\n    os.rename(path, zero_path + f'0_{i}.png')\\nfor i, f in enumerate(one_file_names):\\n    path = one_path + f\\n    os.rename(path, one_path + f'1_{i}.png')\\n\""
      ]
     },
     "execution_count": 3,
     "metadata": {},
     "output_type": "execute_result"
    }
   ],
   "source": [
    "# renaming the files\n",
    "'''\n",
    "import os\n",
    "\n",
    "BASE_DIR = 'data/'\n",
    "zero_path = BASE_DIR + '0/'\n",
    "one_path = BASE_DIR + '1/'\n",
    "zero_file_names = os.listdir(zero_path)\n",
    "one_file_names = os.listdir(one_path)\n",
    "\n",
    "for i, f in enumerate(zero_file_names):\n",
    "    path = zero_path + f\n",
    "    os.rename(path, zero_path + f'0_{i}.png')\n",
    "for i, f in enumerate(one_file_names):\n",
    "    path = one_path + f\n",
    "    os.rename(path, one_path + f'1_{i}.png')\n",
    "'''"
   ]
  },
  {
   "cell_type": "code",
   "execution_count": 4,
   "metadata": {},
   "outputs": [
    {
     "data": {
      "text/plain": [
       "\"\\nimport os\\nimport shutil\\n\\nBASE_DIR = 'data/'\\nzero_path = BASE_DIR + '0/'\\none_path = BASE_DIR + '1/'\\nzero_file_names = os.listdir(zero_path)\\none_file_names = os.listdir(one_path)\\n\\nfor f in zero_file_names:\\n    path = zero_path + f\\n    shutil.move(path, BASE_DIR + '0and1/' + f)\\nfor f in one_file_names:\\n    path = one_path + f\\n    shutil.move(path, BASE_DIR + '0and1/' + f)\\n\""
      ]
     },
     "execution_count": 4,
     "metadata": {},
     "output_type": "execute_result"
    }
   ],
   "source": [
    "# moving them to the same base directory\n",
    "'''\n",
    "import os\n",
    "import shutil\n",
    "\n",
    "BASE_DIR = 'data/'\n",
    "zero_path = BASE_DIR + '0/'\n",
    "one_path = BASE_DIR + '1/'\n",
    "zero_file_names = os.listdir(zero_path)\n",
    "one_file_names = os.listdir(one_path)\n",
    "\n",
    "for f in zero_file_names:\n",
    "    path = zero_path + f\n",
    "    shutil.move(path, BASE_DIR + '0and1/' + f)\n",
    "for f in one_file_names:\n",
    "    path = one_path + f\n",
    "    shutil.move(path, BASE_DIR + '0and1/' + f)\n",
    "'''"
   ]
  },
  {
   "cell_type": "code",
   "execution_count": 5,
   "metadata": {},
   "outputs": [],
   "source": [
    "import os\n",
    "\n",
    "X = os.listdir('data/0and1/')\n",
    "y = []\n",
    "for x in X:\n",
    "    if x[0] == '0':\n",
    "        y.append(0)\n",
    "    else:\n",
    "        y.append(1)"
   ]
  },
  {
   "cell_type": "code",
   "execution_count": 6,
   "metadata": {},
   "outputs": [],
   "source": [
    "import numpy as np\n",
    "from sklearn.model_selection import train_test_split\n",
    "\n",
    "X_train, X_test, y_train, y_test = train_test_split(X, y, test_size=0.3, random_state=42)\n",
    "X = []\n",
    "y = []"
   ]
  },
  {
   "cell_type": "code",
   "execution_count": 7,
   "metadata": {},
   "outputs": [
    {
     "ename": "KeyboardInterrupt",
     "evalue": "",
     "output_type": "error",
     "traceback": [
      "\u001b[0;31m---------------------------------------------------------------------------\u001b[0m",
      "\u001b[0;31mKeyboardInterrupt\u001b[0m                         Traceback (most recent call last)",
      "\u001b[0;32m/var/folders/my/4kvjzm3d3d5319_c0jk6mtx40000gn/T/ipykernel_20979/3571042580.py\u001b[0m in \u001b[0;36m<module>\u001b[0;34m\u001b[0m\n\u001b[1;32m      4\u001b[0m \u001b[0mX_train_numpy\u001b[0m \u001b[0;34m=\u001b[0m \u001b[0;34m[\u001b[0m\u001b[0;34m]\u001b[0m\u001b[0;34m\u001b[0m\u001b[0;34m\u001b[0m\u001b[0m\n\u001b[1;32m      5\u001b[0m \u001b[0;32mfor\u001b[0m \u001b[0mind\u001b[0m\u001b[0;34m,\u001b[0m \u001b[0mi\u001b[0m \u001b[0;32min\u001b[0m \u001b[0menumerate\u001b[0m\u001b[0;34m(\u001b[0m\u001b[0mX_train\u001b[0m\u001b[0;34m)\u001b[0m\u001b[0;34m:\u001b[0m\u001b[0;34m\u001b[0m\u001b[0;34m\u001b[0m\u001b[0m\n\u001b[0;32m----> 6\u001b[0;31m     \u001b[0mim\u001b[0m \u001b[0;34m=\u001b[0m \u001b[0mImage\u001b[0m\u001b[0;34m.\u001b[0m\u001b[0mopen\u001b[0m\u001b[0;34m(\u001b[0m\u001b[0;34m'data/0and1/'\u001b[0m \u001b[0;34m+\u001b[0m \u001b[0mi\u001b[0m\u001b[0;34m)\u001b[0m\u001b[0;34m\u001b[0m\u001b[0;34m\u001b[0m\u001b[0m\n\u001b[0m\u001b[1;32m      7\u001b[0m     \u001b[0marr\u001b[0m \u001b[0;34m=\u001b[0m \u001b[0mnp\u001b[0m\u001b[0;34m.\u001b[0m\u001b[0marray\u001b[0m\u001b[0;34m(\u001b[0m\u001b[0mim\u001b[0m\u001b[0;34m)\u001b[0m\u001b[0;34m.\u001b[0m\u001b[0mastype\u001b[0m\u001b[0;34m(\u001b[0m\u001b[0;34m'float32'\u001b[0m\u001b[0;34m)\u001b[0m\u001b[0;34m.\u001b[0m\u001b[0mtolist\u001b[0m\u001b[0;34m(\u001b[0m\u001b[0;34m)\u001b[0m\u001b[0;34m\u001b[0m\u001b[0;34m\u001b[0m\u001b[0m\n\u001b[1;32m      8\u001b[0m     \u001b[0mX_train_numpy\u001b[0m\u001b[0;34m.\u001b[0m\u001b[0mappend\u001b[0m\u001b[0;34m(\u001b[0m\u001b[0marr\u001b[0m\u001b[0;34m)\u001b[0m\u001b[0;34m\u001b[0m\u001b[0;34m\u001b[0m\u001b[0m\n",
      "\u001b[0;32m~/Desktop/AI Projects 2022/breast_histopathology_detection/breast/lib/python3.7/site-packages/PIL/Image.py\u001b[0m in \u001b[0;36mopen\u001b[0;34m(fp, mode, formats)\u001b[0m\n\u001b[1;32m   2947\u001b[0m     \u001b[0;32mif\u001b[0m \u001b[0misinstance\u001b[0m\u001b[0;34m(\u001b[0m\u001b[0mfp\u001b[0m\u001b[0;34m,\u001b[0m \u001b[0mPath\u001b[0m\u001b[0;34m)\u001b[0m\u001b[0;34m:\u001b[0m\u001b[0;34m\u001b[0m\u001b[0;34m\u001b[0m\u001b[0m\n\u001b[1;32m   2948\u001b[0m         \u001b[0mfilename\u001b[0m \u001b[0;34m=\u001b[0m \u001b[0mstr\u001b[0m\u001b[0;34m(\u001b[0m\u001b[0mfp\u001b[0m\u001b[0;34m.\u001b[0m\u001b[0mresolve\u001b[0m\u001b[0;34m(\u001b[0m\u001b[0;34m)\u001b[0m\u001b[0;34m)\u001b[0m\u001b[0;34m\u001b[0m\u001b[0;34m\u001b[0m\u001b[0m\n\u001b[0;32m-> 2949\u001b[0;31m     \u001b[0;32melif\u001b[0m \u001b[0misPath\u001b[0m\u001b[0;34m(\u001b[0m\u001b[0mfp\u001b[0m\u001b[0;34m)\u001b[0m\u001b[0;34m:\u001b[0m\u001b[0;34m\u001b[0m\u001b[0;34m\u001b[0m\u001b[0m\n\u001b[0m\u001b[1;32m   2950\u001b[0m         \u001b[0mfilename\u001b[0m \u001b[0;34m=\u001b[0m \u001b[0mfp\u001b[0m\u001b[0;34m\u001b[0m\u001b[0;34m\u001b[0m\u001b[0m\n\u001b[1;32m   2951\u001b[0m \u001b[0;34m\u001b[0m\u001b[0m\n",
      "\u001b[0;32m~/Desktop/AI Projects 2022/breast_histopathology_detection/breast/lib/python3.7/site-packages/PIL/_util.py\u001b[0m in \u001b[0;36misPath\u001b[0;34m(f)\u001b[0m\n\u001b[1;32m      4\u001b[0m \u001b[0;34m\u001b[0m\u001b[0m\n\u001b[1;32m      5\u001b[0m \u001b[0;32mdef\u001b[0m \u001b[0misPath\u001b[0m\u001b[0;34m(\u001b[0m\u001b[0mf\u001b[0m\u001b[0;34m)\u001b[0m\u001b[0;34m:\u001b[0m\u001b[0;34m\u001b[0m\u001b[0;34m\u001b[0m\u001b[0m\n\u001b[0;32m----> 6\u001b[0;31m     \u001b[0;32mreturn\u001b[0m \u001b[0misinstance\u001b[0m\u001b[0;34m(\u001b[0m\u001b[0mf\u001b[0m\u001b[0;34m,\u001b[0m \u001b[0;34m(\u001b[0m\u001b[0mbytes\u001b[0m\u001b[0;34m,\u001b[0m \u001b[0mstr\u001b[0m\u001b[0;34m,\u001b[0m \u001b[0mPath\u001b[0m\u001b[0;34m)\u001b[0m\u001b[0;34m)\u001b[0m\u001b[0;34m\u001b[0m\u001b[0;34m\u001b[0m\u001b[0m\n\u001b[0m\u001b[1;32m      7\u001b[0m \u001b[0;34m\u001b[0m\u001b[0m\n\u001b[1;32m      8\u001b[0m \u001b[0;34m\u001b[0m\u001b[0m\n",
      "\u001b[0;31mKeyboardInterrupt\u001b[0m: "
     ]
    }
   ],
   "source": [
    "from PIL import Image\n",
    "\n",
    "# X_train = [list(Image.open('data/0and1/' + i).getdata()) for i in X_train]\n",
    "X_train_numpy = []\n",
    "for ind, i in enumerate(X_train):\n",
    "    im = Image.open('data/0and1/' + i)\n",
    "    arr = np.array(im).astype('float32').tolist()\n",
    "    X_train_numpy.append(arr)\n",
    "    im.close()\n",
    "X_train = np.array(X_train_numpy)\n",
    "X_train_numpy = []\n",
    "print('done1')\n",
    "\n",
    "# X_test = [list(Image.open('data/0and1/' + i).getdata()) for i in X_test]\n",
    "X_test_numpy = []\n",
    "for ind, i in enumerate(X_test):\n",
    "    im = Image.open('data/0and1/' + i)\n",
    "    arr = np.array(im).astype('float32').tolist()\n",
    "    X_test_numpy.append(arr)\n",
    "    im.close()\n",
    "X_test = np.array(X_test_numpy)\n",
    "X_test_numpy = []\n",
    "print('done2')\n",
    "\n",
    "y_train = np.array(y_train)\n",
    "print('done3')\n",
    "y_test = np.array(y_test)\n",
    "print('done4')"
   ]
  },
  {
   "cell_type": "code",
   "execution_count": null,
   "metadata": {},
   "outputs": [],
   "source": [
    "# with open('saved_arr/X.npy', 'wb') as f:\n",
    "#     np.save(f, X_train)\n",
    "#     np.save(f, X_test)\n",
    "\n",
    "# with open('saved_arr/y.npy', 'wb') as f:\n",
    "#     np.save(f, y_train)\n",
    "#     np.save(f, y_test)\n",
    "\n",
    "# with open('saved_arr/X.npy', 'rb') as f:\n",
    "#     X_train_numpy = np.load(f)\n",
    "#     X_test_numpy = np.load(f)\n",
    "\n",
    "# with open('saved_arr/y.npy', 'rb') as f:\n",
    "#     y_train = np.load(f)\n",
    "#     y_test = np.load(f)"
   ]
  },
  {
   "cell_type": "code",
   "execution_count": null,
   "metadata": {},
   "outputs": [],
   "source": [
    "# from PIL import Image\n",
    "\n",
    "# X_test_numpy = []\n",
    "# for ind, i in enumerate(X_test[0:5]):\n",
    "#     print(ind)\n",
    "#     im = Image.open('data/0and1/' + i)\n",
    "#     arr = np.array(im).tolist()\n",
    "#     X_test_numpy.append(arr)\n",
    "#     im.close()\n",
    "# X_test_numpy = np.array(X_test_numpy)\n",
    "# X_test_numpy.shape"
   ]
  },
  {
   "cell_type": "code",
   "execution_count": null,
   "metadata": {},
   "outputs": [],
   "source": [
    "# # reshaping the values\n",
    "# rgb_weights = [0.2989, 0.5870, 0.1140]\n",
    "# abc = np.dot(np.array(X_train)[...,:3], rgb_weights)\n",
    "# defg = np.dot(np.array(X_test)[...,:3], rgb_weights)\n",
    "# # X_train = X_train.reshape(X_train.shape[0], 50, 50, 1).astype('float32')\n",
    "# # X_test = X_test.reshape(X_test.shape[0], 50, 50, 1).astype('float32')\n",
    "\n",
    "# print(abc[0][0])\n",
    "\n",
    "# print(len(X_train), len(X_train[0]), len(X_train[0][0]), len(X_train[0][0][0]))\n"
   ]
  },
  {
   "cell_type": "code",
   "execution_count": null,
   "metadata": {},
   "outputs": [],
   "source": [
    "# # normalizing the values\n",
    "# X_train = X_train / 255\n",
    "# X_test = X_test / 255\n",
    "\n",
    "# X_train[0:5]"
   ]
  },
  {
   "cell_type": "code",
   "execution_count": null,
   "metadata": {},
   "outputs": [],
   "source": [
    "def CNN():\n",
    "    # model\n",
    "    model = Sequential()\n",
    "    model.add(Conv2D(16, (5, 5), strides=(1,1), activation='relu', input_shape=(50,50,3)))\n",
    "    model.add(MaxPooling2D(pool_size=(2,2), strides=(2,2)))\n",
    "\n",
    "    model.add(Conv2D(16, (5, 5), strides=(1,1), activation='relu'))\n",
    "    model.add(MaxPooling2D(pool_size=(2,2), strides=(2,2)))\n",
    "\n",
    "    model.add(Flatten())\n",
    "    model.add(Dense(100, activation='relu'))\n",
    "    model.add(Dense(2, activation='softmax'))\n",
    "\n",
    "    model.compile(optimizer='adam', loss='categorical_crossentropy', metrics=['accuracy'])\n",
    "    return model"
   ]
  },
  {
   "cell_type": "code",
   "execution_count": null,
   "metadata": {},
   "outputs": [
    {
     "name": "stdout",
     "output_type": "stream",
     "text": [
      "Model: \"sequential_3\"\n",
      "_________________________________________________________________\n",
      " Layer (type)                Output Shape              Param #   \n",
      "=================================================================\n",
      " conv2d_5 (Conv2D)           (None, 46, 46, 16)        1216      \n",
      "                                                                 \n",
      " max_pooling2d_4 (MaxPooling  (None, 23, 23, 16)       0         \n",
      " 2D)                                                             \n",
      "                                                                 \n",
      " conv2d_6 (Conv2D)           (None, 19, 19, 16)        6416      \n",
      "                                                                 \n",
      " max_pooling2d_5 (MaxPooling  (None, 9, 9, 16)         0         \n",
      " 2D)                                                             \n",
      "                                                                 \n",
      " flatten_2 (Flatten)         (None, 1296)              0         \n",
      "                                                                 \n",
      " dense_4 (Dense)             (None, 100)               129700    \n",
      "                                                                 \n",
      " dense_5 (Dense)             (None, 2)                 202       \n",
      "                                                                 \n",
      "=================================================================\n",
      "Total params: 137,534\n",
      "Trainable params: 137,534\n",
      "Non-trainable params: 0\n",
      "_________________________________________________________________\n"
     ]
    }
   ],
   "source": [
    "# buulding the model\n",
    "model = CNN()\n",
    "print(model.summary())\n",
    "\n",
    "# fitting the model\n",
    "model.fit(X_train_numpy, y_train, epochs=10, batch_size=200, verbose=1)\n",
    "\n",
    "# evaluate the model\n",
    "scores = model.evaluate(X_test_numpy, y_test, verbose=1)\n",
    "print(\"Accuracy: {} \\n Error: {}\".format(scores[1], 100-scores[1]*100))"
   ]
  }
 ],
 "metadata": {
  "interpreter": {
   "hash": "295b66c8ec771d8d9f55fa9a6b207120ecd65bd96cc91853afd1a6a6a3cd000c"
  },
  "kernelspec": {
   "display_name": "Python 3.7.7 ('breast': venv)",
   "language": "python",
   "name": "python3"
  },
  "language_info": {
   "codemirror_mode": {
    "name": "ipython",
    "version": 3
   },
   "file_extension": ".py",
   "mimetype": "text/x-python",
   "name": "python",
   "nbconvert_exporter": "python",
   "pygments_lexer": "ipython3",
   "version": "3.7.7"
  },
  "orig_nbformat": 4
 },
 "nbformat": 4,
 "nbformat_minor": 2
}
